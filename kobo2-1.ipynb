{
 "cells": [
  {
   "cell_type": "markdown",
   "metadata": {},
   "source": [
    "# 【第1回目　課題１】PyTorchを用いた深層学習 (1): 全結合編\n",
    "\n",
    "第1回目の課題１では，最も簡単な深層学習フレームワークと言われている<a href=\"https://pytorch.org/\">PyTorch</a>を用いて，取り組んでみましょう．\n",
    "\n",
    "まずは，<a href=\"https://pytorch.org/tutorials/\">PyTorchの公式チュートリアル</a>を見てみましょう．\n",
    "\n",
    "PyTorchには，<a href=\"https://pytorch.org/tutorials/beginner/examples_nn/two_layer_net_nn.html\">Sequential model</a> と \n",
    "<a href=\"https://keras.io/ja/getting-started/functional-api-guide/\">nn.Moduleを継承する</a>，２つの書き方があります．\n",
    "\n",
    "レイヤーを単純につなげていくだけの簡単なモデルの場合は，Sequential model で十分ですので，今回はSequential model を使うことにします．"
   ]
  },
  {
   "cell_type": "markdown",
   "metadata": {},
   "source": [
    "課題としては，前回同様に\n",
    "全結合層＋ReLU＋2乗誤差関数 のネットワークを考えてみます．\n",
    "全結合層を使って任意の関数の近似を行います．"
   ]
  },
  {
   "cell_type": "markdown",
   "metadata": {},
   "source": [
    "最初に Pytorch の実行に必要な モジュールを import します．"
   ]
  },
  {
   "cell_type": "code",
   "execution_count": 2,
   "metadata": {},
   "outputs": [],
   "source": [
    "import numpy as np\n",
    "import time\n",
    "\n",
    "import torch\n",
    "import torch.nn as nn\n",
    "import torch.optim as optim"
   ]
  },
  {
   "cell_type": "markdown",
   "metadata": {},
   "source": [
    "まず，近似する関数の定義を行って，学習データ(training data)，検証データ(validation data)を生成します．データの定義は，基本的に前回と同じですが，学習で使うデータは，<a href=\"https://pytorch.org/docs/stable/tensors.html\">torch.Tensor型</a>にしておく必要があります．ここでは，nupmyから変換する <a href=\"https://pytorch.org/docs/stable/torch.html#torch.from_numpy\">from_numpy関数</a>を利用しています．"
   ]
  },
  {
   "cell_type": "code",
   "execution_count": 9,
   "metadata": {},
   "outputs": [],
   "source": [
    "def f(x):\n",
    "    return 0.5*(x-2)**2-5\n",
    "\n",
    "X_train0=np.arange(-10,10,0.01,dtype=np.float32)\n",
    "Y_train0= f(X_train0)\n",
    "# X_train, Y_trainは１次元配列なので，reshapeで ２次元の(n,dim)に変換します．dim=1です．\n",
    "X_train=torch.from_numpy(np.reshape(X_train0,[-1,1])) # , requires_grad=True)   # (2000,)  -> (2000,1)\n",
    "Y_train=torch.from_numpy(np.reshape(Y_train0,[-1,1])) \n",
    "num_train=np.size(X_train0)\n",
    "\n",
    "# テスト用の x も準備します．\n",
    "X_val0=np.arange(-8,8,0.1,dtype=np.float32)\n",
    "Y_val0= f(X_val0)\n",
    "X_val=torch.from_numpy(np.reshape(X_val0,[-1,1]))\n",
    "Y_val=torch.from_numpy(np.reshape(Y_val0,[-1,1]))\n",
    "num_val=np.size(X_val0)"
   ]
  },
  {
   "cell_type": "markdown",
   "metadata": {},
   "source": [
    "次に学習中にグラフを表示するための ShowGraph classを定義しておきます．(Kerasはこれをコールバック関数として指定しますが，PyTorchではユーザが呼び出します．）"
   ]
  },
  {
   "cell_type": "code",
   "execution_count": 10,
   "metadata": {},
   "outputs": [],
   "source": [
    "%matplotlib inline\n",
    "import matplotlib.pyplot as plt\n",
    "from IPython import display\n",
    "\n",
    "# 学習途中のlossなどのグラフ表示を行う ShowGraphを定義\n",
    "# グラフ表示で必要なので，コンストラクタで，model, 最大エポック数 を受け取っておく．\n",
    "# model は，学習途中のパラメータを用いて， y=f(x)を描画するのに必要．\n",
    "class ShowGraph:\n",
    "    def __init__(self,model,max_epoch):\n",
    "        # 表示エリアの設定\n",
    "        self.fig=plt.figure(figsize=(8,4))\n",
    "        self.fig1 = self.fig.add_subplot(121)\n",
    "        self.fig1.axis([0, max_epoch, 0, 50])\n",
    "        self.fig2 = self.fig.add_subplot(122)\n",
    "        self.fig2.axis([-8,8,-10,30])\n",
    "        self.fig1.set_title('loss')\n",
    "        self.fig1.set_ylabel('loss')\n",
    "        self.fig1.set_xlabel('epoch')\n",
    "        self.fig2.set_title('y=0.5(x-2)^2-5')\n",
    "        self.fig2.set_ylabel('f(x)')\n",
    "        self.fig2.set_xlabel('x')\n",
    "        self.model=model\n",
    "        self.max_epoch=max_epoch\n",
    "        self.start=time.time()\n",
    "    \n",
    "    # 学習の最初に呼び出される\n",
    "    def on_train_begin(self, logs={}):\n",
    "        self.losses=[]\n",
    "        self.losses_val=[]\n",
    "        self.n_epoch=[]\n",
    "    \n",
    "    # 各epochの最後に呼び出される\n",
    "    def on_epoch_end(self, epoch, loss, val_loss):\n",
    "        self.n_epoch.append(epoch)\n",
    "        self.losses.append(loss)\n",
    "        self.losses_val.append(val_loss)     \n",
    "        self.loss_val=val_loss\n",
    "    \n",
    "        display.clear_output(wait = True)\n",
    "        self.fig1.plot(self.n_epoch,self.losses,\"b\")\n",
    "        self.fig1.plot(self.n_epoch,self.losses_val,\"r\")\n",
    "        with torch.no_grad():   # backwardは計算しないので，計算途中の値を記録しないようにする．\n",
    "            Y_pred=self.model(X_val)\n",
    "        x0=np.reshape(X_val0,[-1])\n",
    "        y0=torch.reshape(Y_pred,[-1]).detach().cpu().numpy()\n",
    "        self.fig2.plot(x0,y0,\"b\")\n",
    "        self.fig2.plot(x0,f(x0),\"r\")\n",
    "        display.display(self.fig)\n",
    "        if epoch<self.max_epoch-1:\n",
    "            self.fig2.cla()\n",
    "    \n",
    "    # デストラクタ(オブジェクトが消滅時に実行される)  \n",
    "    # グラフが２つ表示されるのを防止．さらに最終val loss値の表示．\n",
    "    def __del__(self):\n",
    "        display.clear_output(wait = True)\n",
    "        print(\"loss_val:\",self.loss_val) \n",
    "        print('Time: ',time.time()-self.start)"
   ]
  },
  {
   "cell_type": "markdown",
   "metadata": {},
   "source": [
    "さあ，いよいよモデルを定義します．\n",
    "前回と違って，当然ですが，全結合層クラスはPyTorchに含まれているので，実装は不要です．\n",
    "PyTorchでは，nn.Linear が fcに相当します．\n",
    "```python\n",
    "  nn.Linear(1,20)\n",
    "```"
   ]
  },
  {
   "cell_type": "markdown",
   "metadata": {},
   "source": [
    "次に学習するネットワークを記述してみましょう．\n",
    "前回は以下のように1x20+ReLU +20x20+ReLU + 20x1 の３層となっていました．\n",
    "```python\n",
    "fc1=Fc(1,20)\n",
    "fc2=Fc(20,20)\n",
    "fc3=Fc(20,1,False)\n",
    "```\n",
    "Sequential モデルでは，nn.Sequential の引数の中に，連続するレイヤーを記述します．\n",
    "nn.Linear が全結合，nn.ReLuがReLU関数です．"
   ]
  },
  {
   "cell_type": "code",
   "execution_count": 11,
   "metadata": {},
   "outputs": [],
   "source": [
    "model = nn.Sequential(\n",
    "    nn.Linear(1, 20),\n",
    "    nn.ReLU(),\n",
    "    nn.Linear(20, 20),\n",
    "    nn.ReLU(),\n",
    "    nn.Linear(20, 1),\n",
    ")"
   ]
  },
  {
   "cell_type": "code",
   "execution_count": 11,
   "metadata": {},
   "outputs": [],
   "source": [
    "import torch.nn as nn\n",
    "import torch.nn.functional as F\n",
    "# nn.Moduleを継承する書き方\n",
    "class Model(nn.Module):\n",
    "    def __init__(self):\n",
    "        super().__init__()\n",
    "        self.linear_1 = nn.Linear(1, 20)\n",
    "        self.linear_2 = nn.Linear(20, 20)\n",
    "        self.linear_3 = nn.Linear(20, 1)\n",
    "\n",
    "    def forward(self, x):\n",
    "        x = self.linear_1(x)\n",
    "        x = F.relu(x)\n",
    "        x = self.linear_2(x)\n",
    "        x = F.relu(x)\n",
    "        x = self.linear_3(x)\n",
    "        return x\n",
    "\n",
    "# このパターンもいける\n",
    "class Model_Sequential(nn.Module):\n",
    "    def __init__(self):\n",
    "        super().__init__()\n",
    "        self.sequential_model = nn.Sequential(\n",
    "            nn.Linear(1, 20),\n",
    "            nn.ReLU(),\n",
    "            nn.Linear(20, 20),\n",
    "            nn.ReLU(),\n",
    "            nn.Linear(20, 1),\n",
    "        )\n",
    "    def forward(self, x):\n",
    "        x = self.sequential_model(x)\n",
    "        return x\n",
    "\n",
    "# model = Model()"
   ]
  },
  {
   "cell_type": "markdown",
   "metadata": {},
   "source": [
    "### モデルで使える関数　　\n"
   ]
  },
  {
   "cell_type": "markdown",
   "metadata": {},
   "source": [
    "#### register_buffer\n",
    "model.parametersでは出てこない(最適化パラメータではない)のに、model.state_dictでは出てくる（保存が可能）という点で、非常に使い勝手がいい。"
   ]
  },
  {
   "cell_type": "code",
   "execution_count": 3,
   "metadata": {},
   "outputs": [],
   "source": [
    "class A(nn.Module):\n",
    "    def __init__(self):\n",
    "        super().__init__()\n",
    "        self.a = nn.Parameter(torch.randn(10))#更新される\n",
    "        self.register_buffer('b', torch.randn(10))# 更新されない\n",
    "\n",
    "    def forward(self, x):\n",
    "        return self.a*x + b\n"
   ]
  },
  {
   "cell_type": "markdown",
   "metadata": {},
   "source": [
    "#### model.apply  \n",
    "Pytorchのmodel. apply()関数はモデルの中にある全てのモジュールを再帰的に掘って関数を適用できる。\n",
    "    - 初期化について　https://pystyle.info/pytorch-parameters-initialization/"
   ]
  },
  {
   "cell_type": "code",
   "execution_count": 20,
   "metadata": {},
   "outputs": [
    {
     "name": "stdout",
     "output_type": "stream",
     "text": [
      "Linear(in_features=1, out_features=20, bias=True) の重みを初期化しました\n",
      "Linear(in_features=20, out_features=20, bias=True) の重みを初期化しました\n",
      "Linear(in_features=20, out_features=1, bias=True) の重みを初期化しました\n"
     ]
    },
    {
     "data": {
      "text/plain": [
       "Model(\n",
       "  (linear_1): Linear(in_features=1, out_features=20, bias=True)\n",
       "  (linear_2): Linear(in_features=20, out_features=20, bias=True)\n",
       "  (linear_3): Linear(in_features=20, out_features=1, bias=True)\n",
       ")"
      ]
     },
     "execution_count": 20,
     "metadata": {},
     "output_type": "execute_result"
    }
   ],
   "source": [
    "def weights_init(m):\n",
    "    if isinstance(m, nn.Linear):\n",
    "        nn.init.kaiming_normal_(m.weight)\n",
    "        print(m,\"の重みを初期化しました\")\n",
    "#         nn.init.xavier_uniform_(m.weight)　#\n",
    "\n",
    "model = Model()\n",
    "model.apply(weights_init)"
   ]
  },
  {
   "cell_type": "markdown",
   "metadata": {},
   "source": [
    "#### model.parameters()の中身のみかた"
   ]
  },
  {
   "cell_type": "code",
   "execution_count": 21,
   "metadata": {},
   "outputs": [
    {
     "data": {
      "text/plain": [
       "<generator object Module.parameters at 0x7f8761354b50>"
      ]
     },
     "execution_count": 21,
     "metadata": {},
     "output_type": "execute_result"
    }
   ],
   "source": [
    "model.parameters()"
   ]
  },
  {
   "cell_type": "markdown",
   "metadata": {},
   "source": [
    "リストにすると見れる  \n",
    "上から順にweight,biasで今回だと計６つ"
   ]
  },
  {
   "cell_type": "code",
   "execution_count": 30,
   "metadata": {},
   "outputs": [
    {
     "data": {
      "text/plain": [
       "6"
      ]
     },
     "execution_count": 30,
     "metadata": {},
     "output_type": "execute_result"
    }
   ],
   "source": [
    "params = list(model.parameters())\n",
    "len(params)"
   ]
  },
  {
   "cell_type": "markdown",
   "metadata": {},
   "source": [
    "#### モデルの保存  torch.save(the_model.state_dict(), PATH)  \n",
    "学習した後のモデルを保存するときに使う"
   ]
  },
  {
   "cell_type": "code",
   "execution_count": 34,
   "metadata": {},
   "outputs": [
    {
     "data": {
      "text/plain": [
       "<All keys matched successfully>"
      ]
     },
     "execution_count": 34,
     "metadata": {},
     "output_type": "execute_result"
    }
   ],
   "source": [
    "torch.save(model.state_dict(), './pretrained_model.pth')#保存　拡張子はpt か pth\n",
    "model.load_state_dict(torch.load(\"pretrained_model.pth\"))#ロード"
   ]
  },
  {
   "cell_type": "markdown",
   "metadata": {},
   "source": [
    "#### 使える関数の説明　終わり"
   ]
  },
  {
   "cell_type": "markdown",
   "metadata": {},
   "source": [
    "モデルを表示するには，\n",
    "```python\n",
    "print(model)\n",
    "```\n",
    "とするだけでOKです．"
   ]
  },
  {
   "cell_type": "code",
   "execution_count": 25,
   "metadata": {
    "scrolled": true
   },
   "outputs": [
    {
     "name": "stdout",
     "output_type": "stream",
     "text": [
      "Model(\n",
      "  (sequential_model): Sequential(\n",
      "    (0): Linear(in_features=1, out_features=20, bias=True)\n",
      "    (1): ReLU()\n",
      "    (2): Linear(in_features=20, out_features=20, bias=True)\n",
      "    (3): ReLU()\n",
      "    (4): Linear(in_features=20, out_features=1, bias=True)\n",
      "  )\n",
      ")\n"
     ]
    }
   ],
   "source": [
    "print(model)"
   ]
  },
  {
   "cell_type": "markdown",
   "metadata": {},
   "source": [
    "次に，<a href=\"https://pytorch.org/docs/stable/nn.functional.html#loss-functions\">損失関数(loss function)</a>と <a href=\"https://pytorch.org/docs/stable/optim.html\">最適化手法(optimizer)</a> の準備を行います．\n",
    "\n",
    "損失関数は，回帰問題なので，<a href=\"https://pytorch.org/docs/stable/nn.functional.html#mse-loss\">最小２乗誤差(mean_squared_error)</a> を使います．最適化手法(optimizer)は，<a href=\"https://pytorch.org/docs/stable/optim.html?highlight=sgd#torch.optim.SGD\">標準的な SGD</a>を使います．\n",
    "なお，標準SDGとモーメンタムSDGの区別はありません．momentum rate の指定で区別できます．デフォルトでは，momentum rate=0.0 ですので，標準SDGになります．mometum=0.9 とすれば，一般的なモーメンタムSDGとなります．weight_decay は，Weight Decay という重みの正則化パラメータです．1e-6 など通常は小さい値を指定しますが，最初はweight_decayを使わないことにして 0 としておきます．"
   ]
  },
  {
   "cell_type": "code",
   "execution_count": 26,
   "metadata": {},
   "outputs": [],
   "source": [
    "loss_fn = nn.MSELoss()\n",
    "optimizer = optim.SGD(model.parameters(), lr=0.001, momentum=0.0, weight_decay=0.0)\n"
   ]
  },
  {
   "cell_type": "markdown",
   "metadata": {},
   "source": [
    "学習を始める前に，モデルとデータをGPUに転送しておきます．これをしないとGPUがあっても，CPU計算となってしまい，時間がかかってしまいます．\n",
    "```python\n",
    "model.to('cuda')\n",
    "``` \n",
    "とします．実際には，GPUが使えるかをチェックして，GPUがあれば，変数deviceに'cuda'を，なければ'cpu'を入れて，model.to(device) とするのが一般的です．('gpu'ではなくて，NVIDIAのGPU演算ライブラリの名称 'cuda'を指定するので，注意が必要です．）\n",
    "\n",
    "PyTorchでは，GPUを使う場合には明示的にGPUにデータやモデルを転送する必要があります．\n",
    "学習モデルをsaveする場合には，CPUに一度GPUからモデルを戻してやる必要があります．\n",
    "この様に，PyTorchでGPUを使う場合には，データやモデルが今，GPU/CPUのどちらにあるか\n",
    "を常に意識する必要があります．\n",
    "\n",
    "(なお，Kerasでは，GPUがあれば自動的にGPUにモデルやデータが転送されて，GPU上で計算が行われますので，ユーザは特にGPU/CPUの区別を気にする必要はありません．）"
   ]
  },
  {
   "cell_type": "code",
   "execution_count": 27,
   "metadata": {},
   "outputs": [],
   "source": [
    "# GPU があれば，GPU にmodelを転送.\n",
    "device = 'cuda' if torch.cuda.is_available() else 'cpu'\n",
    "model = model.to(device)\n",
    "X_train=X_train.to(device)\n",
    "Y_train=Y_train.to(device)\n",
    "X_val=X_val.to(device)\n",
    "Y_val=Y_val.to(device)"
   ]
  },
  {
   "cell_type": "markdown",
   "metadata": {},
   "source": [
    "なお，GPUが複数ある環境では，\n",
    "```python\n",
    "import os\n",
    "os.environ[\"CUDA_VISIBLE_DEVICES\"] = \"1,2\"\n",
    "```\n",
    "として，最初からPyTorchで利用可能なGPUを限定してしまう方法と，\n",
    "```python\n",
    "device='cuda:1' \n",
    "```\n",
    "の様に cuda: の後にGPU ID (0から始まる)を記述する方法があります．\n",
    "\n",
    "他に標準GPUのIDを指定する方法もあります．\n",
    "```python\n",
    "torch.cuda.set_device(3) \n",
    "```\n",
    "とすると，これ以降, 'cuda' が 'cuda:3' と同じになります．\n",
    "\n",
    "torch.cuda.device_count() を使うと利用可能なGPUを表示することができます．\n",
    "最初の方法で環境変数で限定してしまうと指定したGPUの数が表示されますが，\n",
    "他の方法ではシステムの全てのGPU数が表示されます．\n",
    "\n",
    "詳しくは，<a href=\"https://pytorch.org/docs/stable/cuda.html\">torch.cuda</a> のドキュメントを見ましょう．"
   ]
  },
  {
   "cell_type": "code",
   "execution_count": 28,
   "metadata": {},
   "outputs": [
    {
     "data": {
      "text/plain": [
       "2"
      ]
     },
     "execution_count": 28,
     "metadata": {},
     "output_type": "execute_result"
    }
   ],
   "source": [
    "import torch\n",
    "torch.cuda.device_count()"
   ]
  },
  {
   "cell_type": "markdown",
   "metadata": {},
   "source": [
    "いよいよ，学習です．\n",
    "\n",
    "PyTorchでは，Kerasと違って自分で学習ループを書く必要があります．\n",
    "\n",
    "epoch数 と batch_sizeを決めて，(epoch数)×ceil(学習データ数/batch_size)回だけ\n",
    "ループを回してやる必要があります．(ceilは小数点以下切り上げ)\n",
    "\n",
    "学習ループ内では，\n",
    "1. 学習データの順伝搬\n",
    "1. 誤差勾配の逆伝搬\n",
    "1. SGDなどのoptimizerで，重みをupdate\n",
    "の3つの処理が必要です．\n",
    "このために，\n",
    "```python\n",
    "loss = loss_fn(Y_pred, Y_train)\n",
    "optimizer.zero_grad()\n",
    "loss.backward()\n",
    "optimizer.step()\n",
    "```\n",
    "とします．勾配は元の値に加算されるので，optimizer.zero_grad() として，必ず back-propagationの前にクリアしておきます．\n",
    "\n",
    "さらに学習途中の様子を見るために，ここでは，5エポック毎に，\n",
    "学習途中のモデルでテストデータを評価して，そのグラフ(つまり，学習途中の$y=f(x)$)を描画するとともに，training loss, test lossを両方グラフに表示します．"
   ]
  },
  {
   "cell_type": "code",
   "execution_count": null,
   "metadata": {},
   "outputs": [],
   "source": []
  },
  {
   "cell_type": "code",
   "execution_count": 29,
   "metadata": {
    "scrolled": true
   },
   "outputs": [
    {
     "name": "stdout",
     "output_type": "stream",
     "text": [
      "loss_val: 17.32586669921875\n",
      "Time:  11.908421277999878\n",
      "CPU times: user 11.9 s, sys: 107 ms, total: 12 s\n",
      "Wall time: 11.9 s\n"
     ]
    },
    {
     "data": {
      "image/png": "[encoded data removed]",
      "text/plain": [
       "<Figure size 576x288 with 2 Axes>"
      ]
     },
     "metadata": {
      "needs_background": "light"
     },
     "output_type": "display_data"
    }
   ],
   "source": [
    "%%time\n",
    "num_epoch=350\n",
    "show_graph=ShowGraph(model,num_epoch)\n",
    "show_graph.on_train_begin();\n",
    "\n",
    "for t in range(num_epoch):\n",
    "    Y_pred = model(X_train)\n",
    "\n",
    "    # Compute and print loss.\n",
    "    loss = loss_fn(Y_pred, Y_train)\n",
    "    if t % 5 == 4: # 5epoch毎にグラフを描画\n",
    "        Y_pred = model(X_val)\n",
    "        vloss = loss_fn(Y_pred, Y_val)\n",
    "        show_graph.on_epoch_end(t,loss.item(),vloss.item())\n",
    "\n",
    "    # backwardする前に，必ず一度勾配をクリアする．デフォルトでは勾配は足し算される．\n",
    "    optimizer.zero_grad()\n",
    "    loss.backward()\n",
    "    optimizer.step()\n",
    "\n",
    "del show_graph"
   ]
  },
  {
   "cell_type": "markdown",
   "metadata": {},
   "source": [
    "### 課題1\n",
    "以下の小問の(1)-(2)を解答せよ．\n",
    "(再実行する場合は，モデル定義から下だけ実行すれば大丈夫です．）\n",
    "\n",
    "1. OptimizerをモーメンタムSDG (momentum=0.9), RMSprop, Adamに変更して，ノーマルなSDGとの違いを観察せよ．\n",
    "1. 関数 $f(x)$ を自由に書き換え，実行せよ．2通りの $f(x)$ で試してみよ．"
   ]
  },
  {
   "cell_type": "code",
   "execution_count": null,
   "metadata": {},
   "outputs": [],
   "source": []
  }
 ],
 "metadata": {
  "kernelspec": {
   "display_name": "base_env",
   "language": "python",
   "name": "base"
  },
  "language_info": {
   "codemirror_mode": {
    "name": "ipython",
    "version": 3
   },
   "file_extension": ".py",
   "mimetype": "text/x-python",
   "name": "python",
   "nbconvert_exporter": "python",
   "pygments_lexer": "ipython3",
   "version": "3.7.6"
  }
 },
 "nbformat": 4,
 "nbformat_minor": 2
}
